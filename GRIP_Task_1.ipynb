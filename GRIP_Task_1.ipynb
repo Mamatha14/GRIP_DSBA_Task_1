{
  "nbformat": 4,
  "nbformat_minor": 0,
  "metadata": {
    "colab": {
      "name": "GRIP_Task_1",
      "provenance": [],
      "collapsed_sections": []
    },
    "kernelspec": {
      "name": "python3",
      "display_name": "Python 3"
    },
    "language_info": {
      "name": "python"
    }
  },
  "cells": [
    {
      "cell_type": "markdown",
      "metadata": {
        "id": "2tXbiqQuG5X0"
      },
      "source": [
        "# THE SPARKS FOUNDATION\n",
        "\n",
        "## Data Science and Business Analytics Intern - September 2021\n",
        "\n",
        "### Task 1: Prediction using Supervised Learning\n",
        "  \n",
        "**`Problem Statement:`** Predicting the percentage of a student based on the number of study hours.\n",
        "\n",
        "What will be the predicted score, if a student studies for 9.25 hours per day?\n",
        "\n",
        "***Author: MAMATHA E***"
      ]
    },
    {
      "cell_type": "code",
      "metadata": {
        "id": "jTd2wk68I0G6"
      },
      "source": [
        "# Import necessary libraries\n",
        "import numpy as np\n",
        "import pandas as pd\n",
        "\n",
        "import matplotlib.pyplot as plt\n",
        "import seaborn as sns\n",
        "\n",
        "from sklearn.model_selection import train_test_split\n",
        "from sklearn.linear_model import LinearRegression\n",
        "from sklearn.metrics import r2_score, mean_absolute_error\n",
        "\n",
        "import warnings\n",
        "warnings.filterwarnings('ignore')"
      ],
      "execution_count": 1,
      "outputs": []
    },
    {
      "cell_type": "markdown",
      "metadata": {
        "id": "bWKDFIol6UL9"
      },
      "source": [
        "#### Understanding the Data"
      ]
    },
    {
      "cell_type": "code",
      "metadata": {
        "colab": {
          "base_uri": "https://localhost:8080/",
          "height": 203
        },
        "id": "U5-M72tN5l2v",
        "outputId": "c4a28357-9bbc-4400-887d-e99758ca9c35"
      },
      "source": [
        "# Read data and store it in a dataframe\n",
        "data = pd.read_csv('http://bit.ly/w-data')\n",
        "data.head()"
      ],
      "execution_count": 2,
      "outputs": [
        {
          "output_type": "execute_result",
          "data": {
            "text/html": [
              "<div>\n",
              "<style scoped>\n",
              "    .dataframe tbody tr th:only-of-type {\n",
              "        vertical-align: middle;\n",
              "    }\n",
              "\n",
              "    .dataframe tbody tr th {\n",
              "        vertical-align: top;\n",
              "    }\n",
              "\n",
              "    .dataframe thead th {\n",
              "        text-align: right;\n",
              "    }\n",
              "</style>\n",
              "<table border=\"1\" class=\"dataframe\">\n",
              "  <thead>\n",
              "    <tr style=\"text-align: right;\">\n",
              "      <th></th>\n",
              "      <th>Hours</th>\n",
              "      <th>Scores</th>\n",
              "    </tr>\n",
              "  </thead>\n",
              "  <tbody>\n",
              "    <tr>\n",
              "      <th>0</th>\n",
              "      <td>2.5</td>\n",
              "      <td>21</td>\n",
              "    </tr>\n",
              "    <tr>\n",
              "      <th>1</th>\n",
              "      <td>5.1</td>\n",
              "      <td>47</td>\n",
              "    </tr>\n",
              "    <tr>\n",
              "      <th>2</th>\n",
              "      <td>3.2</td>\n",
              "      <td>27</td>\n",
              "    </tr>\n",
              "    <tr>\n",
              "      <th>3</th>\n",
              "      <td>8.5</td>\n",
              "      <td>75</td>\n",
              "    </tr>\n",
              "    <tr>\n",
              "      <th>4</th>\n",
              "      <td>3.5</td>\n",
              "      <td>30</td>\n",
              "    </tr>\n",
              "  </tbody>\n",
              "</table>\n",
              "</div>"
            ],
            "text/plain": [
              "   Hours  Scores\n",
              "0    2.5      21\n",
              "1    5.1      47\n",
              "2    3.2      27\n",
              "3    8.5      75\n",
              "4    3.5      30"
            ]
          },
          "metadata": {},
          "execution_count": 2
        }
      ]
    },
    {
      "cell_type": "code",
      "metadata": {
        "colab": {
          "base_uri": "https://localhost:8080/"
        },
        "id": "lfiQLz1KKmsE",
        "outputId": "bf8a4c44-84fa-4050-c8d3-90967310b526"
      },
      "source": [
        "# Finding the dataset size\n",
        "data.shape"
      ],
      "execution_count": 3,
      "outputs": [
        {
          "output_type": "execute_result",
          "data": {
            "text/plain": [
              "(25, 2)"
            ]
          },
          "metadata": {},
          "execution_count": 3
        }
      ]
    },
    {
      "cell_type": "code",
      "metadata": {
        "colab": {
          "base_uri": "https://localhost:8080/"
        },
        "id": "RR8A99qC6Jeh",
        "outputId": "b7a4cbf9-d3d6-43a9-a087-72487585546b"
      },
      "source": [
        "# Checking the dataset information\n",
        "data.info()"
      ],
      "execution_count": 4,
      "outputs": [
        {
          "output_type": "stream",
          "name": "stdout",
          "text": [
            "<class 'pandas.core.frame.DataFrame'>\n",
            "RangeIndex: 25 entries, 0 to 24\n",
            "Data columns (total 2 columns):\n",
            " #   Column  Non-Null Count  Dtype  \n",
            "---  ------  --------------  -----  \n",
            " 0   Hours   25 non-null     float64\n",
            " 1   Scores  25 non-null     int64  \n",
            "dtypes: float64(1), int64(1)\n",
            "memory usage: 528.0 bytes\n"
          ]
        }
      ]
    },
    {
      "cell_type": "code",
      "metadata": {
        "colab": {
          "base_uri": "https://localhost:8080/",
          "height": 295
        },
        "id": "8y0g7N-q51Ip",
        "outputId": "0a676079-ee2b-43d8-83b2-b5ad4368c3eb"
      },
      "source": [
        "# Checking statistical info\n",
        "data.describe()"
      ],
      "execution_count": 5,
      "outputs": [
        {
          "output_type": "execute_result",
          "data": {
            "text/html": [
              "<div>\n",
              "<style scoped>\n",
              "    .dataframe tbody tr th:only-of-type {\n",
              "        vertical-align: middle;\n",
              "    }\n",
              "\n",
              "    .dataframe tbody tr th {\n",
              "        vertical-align: top;\n",
              "    }\n",
              "\n",
              "    .dataframe thead th {\n",
              "        text-align: right;\n",
              "    }\n",
              "</style>\n",
              "<table border=\"1\" class=\"dataframe\">\n",
              "  <thead>\n",
              "    <tr style=\"text-align: right;\">\n",
              "      <th></th>\n",
              "      <th>Hours</th>\n",
              "      <th>Scores</th>\n",
              "    </tr>\n",
              "  </thead>\n",
              "  <tbody>\n",
              "    <tr>\n",
              "      <th>count</th>\n",
              "      <td>25.000000</td>\n",
              "      <td>25.000000</td>\n",
              "    </tr>\n",
              "    <tr>\n",
              "      <th>mean</th>\n",
              "      <td>5.012000</td>\n",
              "      <td>51.480000</td>\n",
              "    </tr>\n",
              "    <tr>\n",
              "      <th>std</th>\n",
              "      <td>2.525094</td>\n",
              "      <td>25.286887</td>\n",
              "    </tr>\n",
              "    <tr>\n",
              "      <th>min</th>\n",
              "      <td>1.100000</td>\n",
              "      <td>17.000000</td>\n",
              "    </tr>\n",
              "    <tr>\n",
              "      <th>25%</th>\n",
              "      <td>2.700000</td>\n",
              "      <td>30.000000</td>\n",
              "    </tr>\n",
              "    <tr>\n",
              "      <th>50%</th>\n",
              "      <td>4.800000</td>\n",
              "      <td>47.000000</td>\n",
              "    </tr>\n",
              "    <tr>\n",
              "      <th>75%</th>\n",
              "      <td>7.400000</td>\n",
              "      <td>75.000000</td>\n",
              "    </tr>\n",
              "    <tr>\n",
              "      <th>max</th>\n",
              "      <td>9.200000</td>\n",
              "      <td>95.000000</td>\n",
              "    </tr>\n",
              "  </tbody>\n",
              "</table>\n",
              "</div>"
            ],
            "text/plain": [
              "           Hours     Scores\n",
              "count  25.000000  25.000000\n",
              "mean    5.012000  51.480000\n",
              "std     2.525094  25.286887\n",
              "min     1.100000  17.000000\n",
              "25%     2.700000  30.000000\n",
              "50%     4.800000  47.000000\n",
              "75%     7.400000  75.000000\n",
              "max     9.200000  95.000000"
            ]
          },
          "metadata": {},
          "execution_count": 5
        }
      ]
    },
    {
      "cell_type": "markdown",
      "metadata": {
        "id": "toTYVofLOV0j"
      },
      "source": [
        "**`Inference:`** Here, in the data set 'Hours' is independent variable and 'Scores' is dependent variable. Since, the data set contains only one independent variable, it is an case/situation of Simple Linear Regression Model."
      ]
    },
    {
      "cell_type": "code",
      "metadata": {
        "colab": {
          "base_uri": "https://localhost:8080/"
        },
        "id": "8rmT5ye5tKbf",
        "outputId": "3b0b167e-6095-4cfd-c7f6-a9df29d6c623"
      },
      "source": [
        "# Checking for null values\n",
        "data.isnull().sum()/len(data)*100"
      ],
      "execution_count": 6,
      "outputs": [
        {
          "output_type": "execute_result",
          "data": {
            "text/plain": [
              "Hours     0.0\n",
              "Scores    0.0\n",
              "dtype: float64"
            ]
          },
          "metadata": {},
          "execution_count": 6
        }
      ]
    },
    {
      "cell_type": "markdown",
      "metadata": {
        "id": "VIrb5f96Ruxp"
      },
      "source": [
        "**`Inference:`** There is no null values present in the data set."
      ]
    },
    {
      "cell_type": "markdown",
      "metadata": {
        "id": "3ZGF32S_71ab"
      },
      "source": [
        "#### Visualising the Data\n",
        "\n",
        "Performing bivariate analysis using scatterplot as both variables are numeric variables."
      ]
    },
    {
      "cell_type": "code",
      "metadata": {
        "colab": {
          "base_uri": "https://localhost:8080/",
          "height": 279
        },
        "id": "WxNN5ILj6fWK",
        "outputId": "4bc9d6d5-acec-48c2-e2a9-eef54ccfdeef"
      },
      "source": [
        "# Viewing the relationship between 'Hours' and 'Scores'.\n",
        "sns.scatterplot(data.Hours, data.Scores)\n",
        "plt.show()"
      ],
      "execution_count": 7,
      "outputs": [
        {
          "output_type": "display_data",
          "data": {
            "image/png": "[encoded data removed]",
            "text/plain": [
              "<Figure size 432x288 with 1 Axes>"
            ]
          },
          "metadata": {
            "needs_background": "light"
          }
        }
      ]
    },
    {
      "cell_type": "markdown",
      "metadata": {
        "id": "bMRklQIjPXik"
      },
      "source": [
        "**`Inference:`** From the above plot, it can be said that there is a linear relationship between 'Hours' and 'Scores'."
      ]
    },
    {
      "cell_type": "code",
      "metadata": {
        "colab": {
          "base_uri": "https://localhost:8080/",
          "height": 279
        },
        "id": "8KK1B3eP6yZ4",
        "outputId": "695e3528-5144-4cb1-d42a-64482ded542b"
      },
      "source": [
        "# Checking for Outliers\n",
        "sns.boxplot(data.Hours)\n",
        "plt.show()"
      ],
      "execution_count": 8,
      "outputs": [
        {
          "output_type": "display_data",
          "data": {
            "image/png": "[encoded data removed]",
            "text/plain": [
              "<Figure size 432x288 with 1 Axes>"
            ]
          },
          "metadata": {
            "needs_background": "light"
          }
        }
      ]
    },
    {
      "cell_type": "markdown",
      "metadata": {
        "id": "wM598Z23Qd3a"
      },
      "source": [
        "**`Inference:`** There is no outliers in the dataset."
      ]
    },
    {
      "cell_type": "markdown",
      "metadata": {
        "id": "uPwv7qhcKwLZ"
      },
      "source": [
        "#### Data Preparation"
      ]
    },
    {
      "cell_type": "code",
      "metadata": {
        "id": "H1uto3Nk7Yq6",
        "colab": {
          "base_uri": "https://localhost:8080/"
        },
        "outputId": "dad4f73a-ed6e-44b2-a635-e90c43a9e5de"
      },
      "source": [
        "# Create X and y\n",
        "X = data.iloc[:,:-1].values\n",
        "X.shape"
      ],
      "execution_count": 9,
      "outputs": [
        {
          "output_type": "execute_result",
          "data": {
            "text/plain": [
              "(25, 1)"
            ]
          },
          "metadata": {},
          "execution_count": 9
        }
      ]
    },
    {
      "cell_type": "code",
      "metadata": {
        "colab": {
          "base_uri": "https://localhost:8080/"
        },
        "id": "P0Cu_ghLQbSr",
        "outputId": "7d0f6995-3b71-4256-92b7-d0c4fe0c0d9d"
      },
      "source": [
        "y = data.Scores\n",
        "y.shape"
      ],
      "execution_count": 10,
      "outputs": [
        {
          "output_type": "execute_result",
          "data": {
            "text/plain": [
              "(25,)"
            ]
          },
          "metadata": {},
          "execution_count": 10
        }
      ]
    },
    {
      "cell_type": "code",
      "metadata": {
        "colab": {
          "base_uri": "https://localhost:8080/"
        },
        "id": "lYIVwL3LSQWE",
        "outputId": "1b50c2e7-bd91-46b3-82e1-cfeb7081f28f"
      },
      "source": [
        "print(type(X))\n",
        "print(type(y))"
      ],
      "execution_count": 11,
      "outputs": [
        {
          "output_type": "stream",
          "name": "stdout",
          "text": [
            "<class 'numpy.ndarray'>\n",
            "<class 'pandas.core.series.Series'>\n"
          ]
        }
      ]
    },
    {
      "cell_type": "code",
      "metadata": {
        "id": "RQSq3jnk-QbB"
      },
      "source": [
        "# Performing train-test split of 80-20\n",
        "X_train, X_test, y_train, y_test = train_test_split(X, y, train_size = 0.8, random_state = 0)"
      ],
      "execution_count": 12,
      "outputs": []
    },
    {
      "cell_type": "markdown",
      "metadata": {
        "id": "wOHKT8nE8I--"
      },
      "source": [
        "#### Model Building"
      ]
    },
    {
      "cell_type": "code",
      "metadata": {
        "id": "tFGSDS_1_PKm",
        "colab": {
          "base_uri": "https://localhost:8080/"
        },
        "outputId": "827b14ee-c187-4cfc-f005-7c1ca683dad0"
      },
      "source": [
        "# Build and fit a Linear Regression Model\n",
        "lr_model = LinearRegression()\n",
        "lr_model.fit(X_train, y_train)"
      ],
      "execution_count": 13,
      "outputs": [
        {
          "output_type": "execute_result",
          "data": {
            "text/plain": [
              "LinearRegression(copy_X=True, fit_intercept=True, n_jobs=None, normalize=False)"
            ]
          },
          "metadata": {},
          "execution_count": 13
        }
      ]
    },
    {
      "cell_type": "code",
      "metadata": {
        "colab": {
          "base_uri": "https://localhost:8080/"
        },
        "id": "kWvf90nHDmJ1",
        "outputId": "dce2c197-f05d-40a5-fdc4-16cf8945f504"
      },
      "source": [
        "print(lr_model.coef_)\n",
        "print(lr_model.intercept_)"
      ],
      "execution_count": 14,
      "outputs": [
        {
          "output_type": "stream",
          "name": "stdout",
          "text": [
            "[9.91065648]\n",
            "2.018160041434662\n"
          ]
        }
      ]
    },
    {
      "cell_type": "code",
      "metadata": {
        "id": "yRDzq-pS_uCe"
      },
      "source": [
        "# Predictions on Train Set \n",
        "y_train_pred = lr_model.predict(X_train)"
      ],
      "execution_count": 15,
      "outputs": []
    },
    {
      "cell_type": "code",
      "metadata": {
        "id": "Pac6W0S7Ptdf"
      },
      "source": [
        "# Predictions on Test Set\n",
        "y_test_pred = lr_model.predict(X_test)"
      ],
      "execution_count": 16,
      "outputs": []
    },
    {
      "cell_type": "code",
      "metadata": {
        "colab": {
          "base_uri": "https://localhost:8080/",
          "height": 203
        },
        "id": "bUCnPBAbp6Hs",
        "outputId": "a8ec5167-336d-44fb-be8e-38489fa62fc2"
      },
      "source": [
        "# Comparing the actual and predicted scores of the test data set\n",
        "temp_df = pd.DataFrame({'Actual':y_test,'Predicted':y_test_pred})\n",
        "temp_df "
      ],
      "execution_count": 17,
      "outputs": [
        {
          "output_type": "execute_result",
          "data": {
            "text/html": [
              "<div>\n",
              "<style scoped>\n",
              "    .dataframe tbody tr th:only-of-type {\n",
              "        vertical-align: middle;\n",
              "    }\n",
              "\n",
              "    .dataframe tbody tr th {\n",
              "        vertical-align: top;\n",
              "    }\n",
              "\n",
              "    .dataframe thead th {\n",
              "        text-align: right;\n",
              "    }\n",
              "</style>\n",
              "<table border=\"1\" class=\"dataframe\">\n",
              "  <thead>\n",
              "    <tr style=\"text-align: right;\">\n",
              "      <th></th>\n",
              "      <th>Actual</th>\n",
              "      <th>Predicted</th>\n",
              "    </tr>\n",
              "  </thead>\n",
              "  <tbody>\n",
              "    <tr>\n",
              "      <th>5</th>\n",
              "      <td>20</td>\n",
              "      <td>16.884145</td>\n",
              "    </tr>\n",
              "    <tr>\n",
              "      <th>2</th>\n",
              "      <td>27</td>\n",
              "      <td>33.732261</td>\n",
              "    </tr>\n",
              "    <tr>\n",
              "      <th>19</th>\n",
              "      <td>69</td>\n",
              "      <td>75.357018</td>\n",
              "    </tr>\n",
              "    <tr>\n",
              "      <th>16</th>\n",
              "      <td>30</td>\n",
              "      <td>26.794801</td>\n",
              "    </tr>\n",
              "    <tr>\n",
              "      <th>11</th>\n",
              "      <td>62</td>\n",
              "      <td>60.491033</td>\n",
              "    </tr>\n",
              "  </tbody>\n",
              "</table>\n",
              "</div>"
            ],
            "text/plain": [
              "    Actual  Predicted\n",
              "5       20  16.884145\n",
              "2       27  33.732261\n",
              "19      69  75.357018\n",
              "16      30  26.794801\n",
              "11      62  60.491033"
            ]
          },
          "metadata": {},
          "execution_count": 17
        }
      ]
    },
    {
      "cell_type": "markdown",
      "metadata": {
        "id": "DqKhYk42bngJ"
      },
      "source": [
        "#### Model Evaluation"
      ]
    },
    {
      "cell_type": "code",
      "metadata": {
        "colab": {
          "base_uri": "https://localhost:8080/"
        },
        "id": "yf0TjIb8N6Xw",
        "outputId": "e5cb3bfe-7a8d-4716-f081-8d87d799dec8"
      },
      "source": [
        "# Evaluation on training set\n",
        "print('Training Set:')\n",
        "print('R2_Score: ',r2_score(y_train, y_train_pred))\n",
        "print('MAE: ', mean_absolute_error(y_train, y_train_pred))\n",
        "\n",
        "# Evaluation on testing set\n",
        "print('--------------------------------')\n",
        "print('Testing Set:')\n",
        "print('R2_Score: ',r2_score(y_test, y_test_pred))\n",
        "print('MAE: ', mean_absolute_error(y_test, y_test_pred))"
      ],
      "execution_count": 18,
      "outputs": [
        {
          "output_type": "stream",
          "name": "stdout",
          "text": [
            "Training Set:\n",
            "R2_Score:  0.9515510725211552\n",
            "MAE:  5.186601709180373\n",
            "--------------------------------\n",
            "Testing Set:\n",
            "R2_Score:  0.9454906892105354\n",
            "MAE:  4.183859899002982\n"
          ]
        }
      ]
    },
    {
      "cell_type": "markdown",
      "metadata": {
        "id": "WgDRSqYKtULN"
      },
      "source": [
        "**`Inference:`** So, considering the test data, 94% variation on the target variable 'Scores' is explained by the independent variable 'Hours' of the model built."
      ]
    },
    {
      "cell_type": "code",
      "metadata": {
        "colab": {
          "base_uri": "https://localhost:8080/",
          "height": 265
        },
        "id": "Z4CHS8zbpUr8",
        "outputId": "c5f9fb3f-2d03-46c1-8b59-67b0295745f1"
      },
      "source": [
        "# Finding the best fit line on the data i.e., y = bx + c\n",
        "line = lr_model.coef_*X + lr_model.intercept_\n",
        "\n",
        "# Plotting the best fit line on the data set\n",
        "plt.plot(X, line, color = 'red')\n",
        "plt.scatter(X,y)\n",
        "plt.show()"
      ],
      "execution_count": 19,
      "outputs": [
        {
          "output_type": "display_data",
          "data": {
            "image/png": "[encoded data removed]",
            "text/plain": [
              "<Figure size 432x288 with 1 Axes>"
            ]
          },
          "metadata": {
            "needs_background": "light"
          }
        }
      ]
    },
    {
      "cell_type": "markdown",
      "metadata": {
        "id": "ZSITCLXao7eZ"
      },
      "source": [
        "#### What will be the predicted score if a student studies for 9.25 hrs/day?"
      ]
    },
    {
      "cell_type": "code",
      "metadata": {
        "id": "9gf1YqTDuNWa",
        "colab": {
          "base_uri": "https://localhost:8080/"
        },
        "outputId": "bf66e418-3c71-4fb1-a0f8-720964bf3c47"
      },
      "source": [
        "# Predicting the score for a student who is studying for 9.25hrs\n",
        "hrs = 9.25\n",
        "temp_arr = np.array([hrs])\n",
        "temp_arr = temp_arr.reshape(-1,1)\n",
        "pred = lr_model.predict(temp_arr)\n",
        "print(\"No of Hours = {}\".format(hrs))\n",
        "print(\"Predicted Score = {}\".format(round(pred[0],4)))"
      ],
      "execution_count": 20,
      "outputs": [
        {
          "output_type": "stream",
          "name": "stdout",
          "text": [
            "No of Hours = 9.25\n",
            "Predicted Score = 93.6917\n"
          ]
        }
      ]
    },
    {
      "cell_type": "markdown",
      "metadata": {
        "id": "t8hTrNWmOiUi"
      },
      "source": [
        "Rather using predict() to find the score, one can also use the best fit line equation used above i.e., line = lr_model.coef_*X + lr_model.intercept_\n",
        "\n",
        "In the question, X = 9.25. So, the student score is as follows:"
      ]
    },
    {
      "cell_type": "code",
      "metadata": {
        "colab": {
          "base_uri": "https://localhost:8080/"
        },
        "id": "gS7WX5U3PUye",
        "outputId": "e1b0a54f-3d97-4dc4-ecba-62d591eb2b46"
      },
      "source": [
        "score = lr_model.coef_*9.25 + lr_model.intercept_\n",
        "print(\"Predicted Score of a student studying for 9.25 hrs per day is {}\".format(round(score[0],4)))"
      ],
      "execution_count": 21,
      "outputs": [
        {
          "output_type": "stream",
          "name": "stdout",
          "text": [
            "Predicted Score of a student studying for 9.25 hrs per day is 93.6917\n"
          ]
        }
      ]
    },
    {
      "cell_type": "markdown",
      "metadata": {
        "id": "QSfai8N45d07"
      },
      "source": [
        "**`Inference:`** Both solution results in same value. Therefore, the student score who studies for 9.25 hrs per day is 93.6917%."
      ]
    },
    {
      "cell_type": "markdown",
      "metadata": {
        "id": "U4i_C83L2PRF"
      },
      "source": [
        "**Final Conclusion:**\n",
        "\n",
        "*   Built a Simple Linear Regression model to predict the score of a student based on the hours spent for studying.\n",
        "*   The model was evaluated using R-squared value = 0.945 and MAE = 4.183 on the test data which is close to the values obtained for the train data i.e., R-squared value = 0.951 and MAE = 5.186.\n",
        "*   The model also predicted the score of the student who studied for 9.25hrs, ie., 93.6917.\n",
        "\n",
        "\n",
        "\n"
      ]
    },
    {
      "cell_type": "code",
      "metadata": {
        "id": "zUutOUFsNVcU"
      },
      "source": [
        ""
      ],
      "execution_count": 21,
      "outputs": []
    }
  ]
}